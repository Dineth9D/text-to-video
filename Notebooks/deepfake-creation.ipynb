{
 "cells": [
  {
   "cell_type": "markdown",
   "metadata": {},
   "source": [
    "### Download the dataset"
   ]
  },
  {
   "cell_type": "code",
   "execution_count": null,
   "metadata": {
    "vscode": {
     "languageId": "plaintext"
    }
   },
   "outputs": [],
   "source": [
    "import os\n",
    "if not os.path.exists('/kaggle/working/personA'):\n",
    "    !wget -q https://www.dropbox.com/s/5ji7jl7httso9ny/person_images.zip\n",
    "    !wget -q https://raw.githubusercontent.com/sizhky/deep-fake-util/main/random_warp.py\n",
    "    !unzip -q person_images.zip\n",
    "!pip install lovely-tensors --quiet\n",
    "!pip install -q torch_snippets torch_summary --quiet\n",
    "from torch_snippets import *\n",
    "import torch\n",
    "from random_warp import get_training_data"
   ]
  },
  {
   "cell_type": "code",
   "execution_count": null,
   "metadata": {
    "vscode": {
     "languageId": "plaintext"
    }
   },
   "outputs": [],
   "source": [
    "face_cascade = cv2.CascadeClassifier(cv2.data.haarcascades + 'haarcascade_frontalface_default.xml')"
   ]
  },
  {
   "cell_type": "markdown",
   "metadata": {},
   "source": [
    "### Cropped face only"
   ]
  },
  {
   "cell_type": "code",
   "execution_count": null,
   "metadata": {
    "vscode": {
     "languageId": "plaintext"
    }
   },
   "outputs": [],
   "source": [
    "def crop_face(img):\n",
    "    gray = cv2.cvtColor(img, cv2.COLOR_BGR2GRAY)\n",
    "    faces = face_cascade.detectMultiScale(gray, 1.3, 5)\n",
    "    if(len(faces)>0):\n",
    "        for (x,y,w,h) in faces:\n",
    "            img2 = img[y:(y+h),x:(x+w),:]\n",
    "        img2 = cv2.resize(img2,(256,256))\n",
    "        return img2, True\n",
    "    else:\n",
    "        return img, False"
   ]
  }
 ],
 "metadata": {
  "language_info": {
   "name": "python"
  }
 },
 "nbformat": 4,
 "nbformat_minor": 2
}
