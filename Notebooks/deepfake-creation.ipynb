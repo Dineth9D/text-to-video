{
 "cells": [
  {
   "cell_type": "markdown",
   "metadata": {},
   "source": [
    "### Download the dataset"
   ]
  },
  {
   "cell_type": "code",
   "execution_count": null,
   "metadata": {
    "vscode": {
     "languageId": "plaintext"
    }
   },
   "outputs": [],
   "source": [
    "import os\n",
    "if not os.path.exists('/kaggle/working/personA'):\n",
    "    !wget -q https://www.dropbox.com/s/5ji7jl7httso9ny/person_images.zip\n",
    "    !wget -q https://raw.githubusercontent.com/sizhky/deep-fake-util/main/random_warp.py\n",
    "    !unzip -q person_images.zip\n",
    "!pip install lovely-tensors --quiet\n",
    "!pip install -q torch_snippets torch_summary --quiet\n",
    "from torch_snippets import *\n",
    "import torch\n",
    "from random_warp import get_training_data"
   ]
  }
 ],
 "metadata": {
  "language_info": {
   "name": "python"
  }
 },
 "nbformat": 4,
 "nbformat_minor": 2
}
